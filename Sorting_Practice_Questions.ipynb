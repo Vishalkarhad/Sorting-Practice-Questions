{
  "nbformat": 4,
  "nbformat_minor": 0,
  "metadata": {
    "colab": {
      "provenance": []
    },
    "kernelspec": {
      "name": "python3",
      "display_name": "Python 3"
    },
    "language_info": {
      "name": "python"
    }
  },
  "cells": [
    {
      "cell_type": "markdown",
      "source": [
        " **Problem 1.Given an array of n numbers, give an algorithm which gives the element appearing maximum\n",
        "number of times?**"
      ],
      "metadata": {
        "id": "3WKVMxKhmysm"
      }
    },
    {
      "cell_type": "code",
      "execution_count": 1,
      "metadata": {
        "colab": {
          "base_uri": "https://localhost:8080/"
        },
        "id": "0NaCvZ67mj4T",
        "outputId": "0052eba7-0a93-4016-d39e-66f6f7805dcf"
      },
      "outputs": [
        {
          "output_type": "stream",
          "name": "stdout",
          "text": [
            "Element with maximum occurrences: 2\n"
          ]
        }
      ],
      "source": [
        "def find_maximum_occurrence_element(arr):\n",
        "    if not arr:\n",
        "        return None\n",
        "\n",
        "\n",
        "    frequency = {}\n",
        "\n",
        "\n",
        "    for element in arr:\n",
        "        if element in frequency:\n",
        "            frequency[element] += 1\n",
        "        else:\n",
        "            frequency[element] = 1\n",
        "\n",
        "\n",
        "    max_element = None\n",
        "    max_count = 0\n",
        "\n",
        "    for element, count in frequency.items():\n",
        "        if count > max_count:\n",
        "            max_count = count\n",
        "            max_element = element\n",
        "\n",
        "    return max_element\n",
        "\n",
        "\n",
        "arr = [1, 3, 2, 1, 2, 1, 4, 5, 2, 2, 3]\n",
        "result = find_maximum_occurrence_element(arr)\n",
        "print(f\"Element with maximum occurrences: {result}\")\n"
      ]
    },
    {
      "cell_type": "markdown",
      "source": [
        "**Problem 2 : We are given a list of n-1 integers and these integers are in the range of 1 to n . There are no\n",
        "duplicates in the list. One of the integers is missing in the list. Give an algorithm to find that element Ex:\n",
        "[1,2,4,6,3,7,8] 5 is the missing num.**"
      ],
      "metadata": {
        "id": "rhFxif7SnSME"
      }
    },
    {
      "cell_type": "code",
      "source": [
        "def find_missing_number(nums):\n",
        "    n = len(nums) + 1\n",
        "    expected_sum = n * (n + 1) // 2\n",
        "    actual_sum = sum(nums)\n",
        "\n",
        "    missing_number = expected_sum - actual_sum\n",
        "    return missing_number\n",
        "\n",
        "\n",
        "nums = [1, 2, 4, 6, 3, 7, 8]\n",
        "missing = find_missing_number(nums)\n",
        "print(f\"The missing number is: {missing}\")\n"
      ],
      "metadata": {
        "colab": {
          "base_uri": "https://localhost:8080/"
        },
        "id": "pAKG__PTm-hk",
        "outputId": "9ac29ad3-1dfd-4da4-a6dd-56fc0dd0e500"
      },
      "execution_count": 2,
      "outputs": [
        {
          "output_type": "stream",
          "name": "stdout",
          "text": [
            "The missing number is: 5\n"
          ]
        }
      ]
    },
    {
      "cell_type": "markdown",
      "source": [
        "**Problem 3 : Given an array of n positive numbers. All numbers occurs even number of times except 1 which\n",
        "occurs odd number of times. Find that number in O(n) time and O(1) space. Ex: [1,2,3,2,3,1,3]. 3 is repeats odd\n",
        "times.**"
      ],
      "metadata": {
        "id": "2MWz6jDfnpoE"
      }
    },
    {
      "cell_type": "code",
      "source": [
        "def find_odd_occurrence_number(arr):\n",
        "    result = 0\n",
        "    for num in arr:\n",
        "        result ^= num\n",
        "    return result\n",
        "\n",
        "\n",
        "arr = [1, 2, 3, 2, 3, 1, 3]\n",
        "odd_occurrence = find_odd_occurrence_number(arr)\n",
        "print(f\"The number occurring odd times is: {odd_occurrence}\")\n"
      ],
      "metadata": {
        "colab": {
          "base_uri": "https://localhost:8080/"
        },
        "id": "JV8mUr-knmZt",
        "outputId": "7ffe6b5b-af8f-4bfb-96e1-f2d899ee9eb4"
      },
      "execution_count": 3,
      "outputs": [
        {
          "output_type": "stream",
          "name": "stdout",
          "text": [
            "The number occurring odd times is: 3\n"
          ]
        }
      ]
    },
    {
      "cell_type": "markdown",
      "source": [
        "**Problem 4 : Given an array of n elements. Find two elements in the array such that their sum is equal to given\n",
        "element K.**"
      ],
      "metadata": {
        "id": "Qj8x04mxn6xL"
      }
    },
    {
      "cell_type": "code",
      "source": [
        "def find_two_elements_with_sum(arr, K):\n",
        "    seen = set()\n",
        "    for num in arr:\n",
        "        complement = K - num\n",
        "        if complement in seen:\n",
        "            return (complement, num)\n",
        "        seen.add(num)\n",
        "    return None  # No such pair found\n",
        "\n",
        "# Example usage:\n",
        "arr = [2, 7, 11, 15]\n",
        "K = 9\n",
        "result = find_two_elements_with_sum(arr, K)\n",
        "if result:\n",
        "    print(f\"The two elements are: {result}\")\n",
        "else:\n",
        "    print(\"No two elements found with the given sum.\")\n",
        "\n"
      ],
      "metadata": {
        "colab": {
          "base_uri": "https://localhost:8080/"
        },
        "id": "5VOvt4L1n0Zr",
        "outputId": "cfd61dfd-83c7-40f9-d3ad-a73aba11fb4b"
      },
      "execution_count": 4,
      "outputs": [
        {
          "output_type": "stream",
          "name": "stdout",
          "text": [
            "The two elements are: (2, 7)\n"
          ]
        }
      ]
    },
    {
      "cell_type": "markdown",
      "source": [
        "**Problem 5 : Given an array of both positive and negative numbers, find two numbers such that their sum is\n",
        "closest to 0. Ex: [ 1 ,60 ,-10, 70, -80,85]. Ans : -80,85.**"
      ],
      "metadata": {
        "id": "td_YA2W4oDfE"
      }
    },
    {
      "cell_type": "code",
      "source": [
        "def find_closest_pair_to_zero(arr):\n",
        "    # Edge case: array should have at least two elements\n",
        "    if len(arr) < 2:\n",
        "        return None\n",
        "\n",
        "    # Sort the array\n",
        "    arr.sort()\n",
        "\n",
        "    left, right = 0, len(arr) - 1\n",
        "    closest_sum = float('inf')\n",
        "    closest_pair = (None, None)\n",
        "\n",
        "    while left < right:\n",
        "        current_sum = arr[left] + arr[right]\n",
        "\n",
        "        # Update closest_pair if current_sum is closer to 0\n",
        "        if abs(current_sum) < abs(closest_sum):\n",
        "            closest_sum = current_sum\n",
        "            closest_pair = (arr[left], arr[right])\n",
        "\n",
        "        # Move pointers based on the value of current_sum\n",
        "        if current_sum < 0:\n",
        "            left += 1\n",
        "        elif current_sum > 0:\n",
        "            right -= 1\n",
        "        else:\n",
        "            # Exact 0 found, which is the closest possible\n",
        "            break\n",
        "\n",
        "    return closest_pair\n",
        "\n",
        "# Example usage:\n",
        "arr = [1, 60, -10, 70, -80, 85]\n",
        "result = find_closest_pair_to_zero(arr)\n",
        "print(f\"The pair with the sum closest to zero is: {result}\")\n"
      ],
      "metadata": {
        "colab": {
          "base_uri": "https://localhost:8080/"
        },
        "id": "zkBhImLdoBcL",
        "outputId": "c11d29b3-e156-45cb-9a59-c0ddbcc6ac84"
      },
      "execution_count": 5,
      "outputs": [
        {
          "output_type": "stream",
          "name": "stdout",
          "text": [
            "The pair with the sum closest to zero is: (-80, 85)\n"
          ]
        }
      ]
    },
    {
      "cell_type": "markdown",
      "source": [
        "**Problem 6 : Given an array of n elements . Find three elements such that their sum is equal to the given\n",
        "number.**"
      ],
      "metadata": {
        "id": "iGVFZlHmoQSM"
      }
    },
    {
      "cell_type": "code",
      "source": [
        "def find_triplets_with_sum(arr, K):\n",
        "    arr.sort()  # Sort the array\n",
        "    n = len(arr)\n",
        "    triplets = []\n",
        "\n",
        "    for i in range(n - 2):\n",
        "        # Avoid duplicates for the first element of the triplet\n",
        "        if i > 0 and arr[i] == arr[i - 1]:\n",
        "            continue\n",
        "\n",
        "        left, right = i + 1, n - 1\n",
        "        while left < right:\n",
        "            current_sum = arr[i] + arr[left] + arr[right]\n",
        "            if current_sum == K:\n",
        "                triplets.append((arr[i], arr[left], arr[right]))\n",
        "                # Move left and right to the next different elements\n",
        "                while left < right and arr[left] == arr[left + 1]:\n",
        "                    left += 1\n",
        "                while left < right and arr[right] == arr[right - 1]:\n",
        "                    right -= 1\n",
        "                left += 1\n",
        "                right -= 1\n",
        "            elif current_sum < K:\n",
        "                left += 1\n",
        "            else:\n",
        "                right -= 1\n",
        "\n",
        "    return triplets\n",
        "\n",
        "# Example usage:\n",
        "arr = [1, 2, -1, -2, 3, 0, 4]\n",
        "K = 3\n",
        "result = find_triplets_with_sum(arr, K)\n",
        "print(f\"Triplets with sum equal to {K} are: {result}\")\n"
      ],
      "metadata": {
        "colab": {
          "base_uri": "https://localhost:8080/"
        },
        "id": "tnAiEbh6oMS7",
        "outputId": "23b23f28-6c26-4888-8b3c-14d0ed6bfb1a"
      },
      "execution_count": 6,
      "outputs": [
        {
          "output_type": "stream",
          "name": "stdout",
          "text": [
            "Triplets with sum equal to 3 are: [(-2, 1, 4), (-2, 2, 3), (-1, 0, 4), (-1, 1, 3), (0, 1, 2)]\n"
          ]
        }
      ]
    },
    {
      "cell_type": "markdown",
      "source": [
        "**Problem 7 : Given an array of n elements . Find three elements i, j, k in the array such that\n",
        "i * i + j * j = k*k.**"
      ],
      "metadata": {
        "id": "GtlIJk44obJk"
      }
    },
    {
      "cell_type": "code",
      "source": [
        "def find_triplets_with_sum_of_squares(arr):\n",
        "    squares_set = set()\n",
        "    n = len(arr)\n",
        "\n",
        "    # Create a set of squares of all elements\n",
        "    for num in arr:\n",
        "        squares_set.add(num * num)\n",
        "\n",
        "    triplets = []\n",
        "\n",
        "    # Check all pairs\n",
        "    for i in range(n):\n",
        "        for j in range(i + 1, n):\n",
        "            sum_of_squares = arr[i] ** 2 + arr[j] ** 2\n",
        "            if sum_of_squares in squares_set:\n",
        "                # Find k such that k^2 = sum_of_squares\n",
        "                k = int(sum_of_squares ** 0.5)\n",
        "                if k in arr:\n",
        "                    triplets.append((arr[i], arr[j], k))\n",
        "\n",
        "    return triplets\n",
        "\n",
        "# Example usage:\n",
        "arr = [3, 4, 5, 6, 8]\n",
        "result = find_triplets_with_sum_of_squares(arr)\n",
        "print(f\"Triplets where i^2 + j^2 = k^2 are: {result}\")\n"
      ],
      "metadata": {
        "colab": {
          "base_uri": "https://localhost:8080/"
        },
        "id": "VQcSUGkHoYg0",
        "outputId": "cf5ed5f8-7928-4afd-a239-3a42d5edf0d9"
      },
      "execution_count": 7,
      "outputs": [
        {
          "output_type": "stream",
          "name": "stdout",
          "text": [
            "Triplets where i^2 + j^2 = k^2 are: [(3, 4, 5)]\n"
          ]
        }
      ]
    },
    {
      "cell_type": "markdown",
      "source": [
        "**Problem 8 : An element is a majority if it appears more than n/2 times. Give an algorithm takes an array of n\n",
        "element as argument and identifies a majority (if it exists).**"
      ],
      "metadata": {
        "id": "a2ZHLarponVD"
      }
    },
    {
      "cell_type": "code",
      "source": [
        "def find_majority_element(arr):\n",
        "    # Step 1: Find the candidate for majority element\n",
        "    candidate = None\n",
        "    count = 0\n",
        "\n",
        "    for num in arr:\n",
        "        if count == 0:\n",
        "            candidate = num\n",
        "        count += (1 if num == candidate else -1)\n",
        "\n",
        "    # Step 2: Verify the candidate\n",
        "    if candidate is not None:\n",
        "        occurrence = arr.count(candidate)\n",
        "        if occurrence > len(arr) // 2:\n",
        "            return candidate\n",
        "\n",
        "    return None\n",
        "\n",
        "# Example usage:\n",
        "arr = [3, 3, 4, 2, 4, 4, 2, 4, 4]\n",
        "result = find_majority_element(arr)\n",
        "print(f\"The majority element is: {result}\")\n"
      ],
      "metadata": {
        "colab": {
          "base_uri": "https://localhost:8080/"
        },
        "id": "g4xHrqXUolJr",
        "outputId": "b8a271cb-2f41-400b-ea44-45eefb0d5464"
      },
      "execution_count": 8,
      "outputs": [
        {
          "output_type": "stream",
          "name": "stdout",
          "text": [
            "The majority element is: 4\n"
          ]
        }
      ]
    },
    {
      "cell_type": "markdown",
      "source": [
        "**Problem 9 : Given n × n matrix, and in each row all 1’s are followed by 0’s. Find the row with the maximum\n",
        "number of 0’s.**"
      ],
      "metadata": {
        "id": "zWO_HGtCpA28"
      }
    },
    {
      "cell_type": "code",
      "source": [
        "def row_with_max_zeros(matrix):\n",
        "    n = len(matrix)\n",
        "    max_zeros_row = -1\n",
        "    max_zeros_count = -1\n",
        "\n",
        "    # Start from the top-right corner\n",
        "    row = 0\n",
        "    col = n - 1\n",
        "\n",
        "    while row < n and col >= 0:\n",
        "        if matrix[row][col] == 0:\n",
        "            # Count number of 0's in the current row\n",
        "            zero_count = n - col\n",
        "            if zero_count > max_zeros_count:\n",
        "                max_zeros_count = zero_count\n",
        "                max_zeros_row = row\n",
        "            # Move left to find more 0's\n",
        "            col -= 1\n",
        "        else:\n",
        "            # Move down if the current element is 1\n",
        "            row += 1\n",
        "\n",
        "    return max_zeros_row\n",
        "\n",
        "# Example usage:\n",
        "matrix = [\n",
        "    [1, 1, 1, 0, 0],\n",
        "    [1, 1, 0, 0, 0],\n",
        "    [1, 0, 0, 0, 0],\n",
        "    [0, 0, 0, 0, 0]\n",
        "]\n",
        "result = row_with_max_zeros(matrix)\n",
        "print(f\"The row with the maximum number of 0's is: {result}\")\n"
      ],
      "metadata": {
        "colab": {
          "base_uri": "https://localhost:8080/"
        },
        "id": "VdyWcZqgo-w8",
        "outputId": "d5f6cc74-cf54-4780-c1fc-cdb3d3f54907"
      },
      "execution_count": 9,
      "outputs": [
        {
          "output_type": "stream",
          "name": "stdout",
          "text": [
            "The row with the maximum number of 0's is: 3\n"
          ]
        }
      ]
    },
    {
      "cell_type": "markdown",
      "source": [
        "**Problem 10 : Sort an array of 0’s, 1’s and 2’s [or R’s, G’s and B’s]: Given an array A[] consisting of 0’s, 1’s and\n",
        "2’s, give an algorithm for sorting A[].The algorithm should put all 0’s first, then all 1’s and finally all 2’s at the\n",
        "end. Example Input = {0,1,1,0,1,2,1,2,0,0,0,1}, Output = {0,0,0,0,0,1,1,1,1,1,2,2}**"
      ],
      "metadata": {
        "id": "WoLNPIg9pMu9"
      }
    },
    {
      "cell_type": "code",
      "source": [
        "def sort_012(arr):\n",
        "    low, mid, high = 0, 0, len(arr) - 1\n",
        "\n",
        "    while mid <= high:\n",
        "        if arr[mid] == 0:\n",
        "            # Swap the elements at `low` and `mid`\n",
        "            arr[low], arr[mid] = arr[mid], arr[low]\n",
        "            low += 1\n",
        "            mid += 1\n",
        "        elif arr[mid] == 1:\n",
        "            mid += 1\n",
        "        else: # arr[mid] == 2\n",
        "            # Swap the elements at `mid` and `high`\n",
        "            arr[high], arr[mid] = arr[mid], arr[high]\n",
        "            high -= 1\n",
        "\n",
        "    return arr\n",
        "\n",
        "# Example usage:\n",
        "arr = [0, 1, 1, 0, 1, 2, 1, 2, 0, 0, 0, 1]\n",
        "sorted_arr = sort_012(arr)\n",
        "print(f\"Sorted array: {sorted_arr}\")\n"
      ],
      "metadata": {
        "colab": {
          "base_uri": "https://localhost:8080/"
        },
        "id": "QpSFcd1ypKMc",
        "outputId": "ad167716-d0a9-4a1a-cc34-1c150635318d"
      },
      "execution_count": 10,
      "outputs": [
        {
          "output_type": "stream",
          "name": "stdout",
          "text": [
            "Sorted array: [0, 0, 0, 0, 0, 1, 1, 1, 1, 1, 2, 2]\n"
          ]
        }
      ]
    },
    {
      "cell_type": "code",
      "source": [],
      "metadata": {
        "id": "9leao3xzpnUM"
      },
      "execution_count": null,
      "outputs": []
    }
  ]
}